{
  "nbformat": 4,
  "nbformat_minor": 0,
  "metadata": {
    "colab": {
      "name": "phantich2021.ipynb",
      "provenance": [],
      "collapsed_sections": [],
      "authorship_tag": "ABX9TyPWUl8fNVEXXL00+XHodyI/",
      "include_colab_link": true
    },
    "kernelspec": {
      "name": "python3",
      "display_name": "Python 3"
    },
    "language_info": {
      "name": "python"
    }
  },
  "cells": [
    {
      "cell_type": "markdown",
      "metadata": {
        "id": "view-in-github",
        "colab_type": "text"
      },
      "source": [
        "<a href=\"https://colab.research.google.com/github/duongDSAI64/ThiTHPT/blob/master/phantich2021.ipynb\" target=\"_parent\"><img src=\"https://colab.research.google.com/assets/colab-badge.svg\" alt=\"Open In Colab\"/></a>"
      ]
    },
    {
      "cell_type": "code",
      "metadata": {
        "id": "FlXH02Rm4zkO"
      },
      "source": [
        "import pandas as pd\n",
        "import numpy as np\n",
        "import matplotlib.pyplot as plt\n",
        "\n",
        "# Make the graphs a bit prettier, and bigger\n",
        "plt.style.use(\n",
        "    'ggplot')\n",
        "plt.rcParams['figure.figsize'] = (20, 7)"
      ],
      "execution_count": 19,
      "outputs": []
    },
    {
      "cell_type": "code",
      "metadata": {
        "id": "qHQ8yGe46KyP"
      },
      "source": [
        "data = pd.read_csv(r\"https://raw.githubusercontent.com/duongDSAI64/ThiTHPT/master/Diemthi2021.csv\", encoding = \"Latin-1\")\n",
        "data"
      ],
      "execution_count": null,
      "outputs": []
    },
    {
      "cell_type": "code",
      "metadata": {
        "id": "c0VN-bT5SKyA"
      },
      "source": [
        "data.info()"
      ],
      "execution_count": null,
      "outputs": []
    },
    {
      "cell_type": "markdown",
      "metadata": {
        "id": "6Hb9E9hyvMr1"
      },
      "source": [
        "### **Số lượng theo cụm thi**"
      ]
    },
    {
      "cell_type": "code",
      "metadata": {
        "id": "CI2_fQcvpNkd"
      },
      "source": [
        "count_tinh = data['Cum_thi'].value_counts().sort_index()\n",
        "plt.xlabel('Cụm thi', labelpad = 10)\n",
        "plt.ylabel('Số lượng', labelpad = 15)\n",
        "for index, value in enumerate(count_tinh.values):\n",
        "    plt.text(index, value, '   ' + str(value), rotation = 90)\n",
        "count_tinh.plot.bar()"
      ],
      "execution_count": null,
      "outputs": []
    },
    {
      "cell_type": "markdown",
      "metadata": {
        "id": "iCTWizKs5NLn"
      },
      "source": [
        "### **Tính điểm các khối**"
      ]
    },
    {
      "cell_type": "code",
      "metadata": {
        "id": "zXmmD0bR5Mx4"
      },
      "source": [
        "data['A'] = data['Toan']+data['Vat_ly']+data['Hoa_hoc']\n",
        "data['B'] = data['Toan']+data['Sinh_hoc']+data['Hoa_hoc']\n",
        "data['C'] = data['Ngu_van']+data['Lich_su']+data['Dia_ly']\n",
        "data['A1'] = data['Toan'] + data['Ngoai_ngu'] + data['Vat_ly']\n",
        "data['D1'] = data['Toan'] + data['Ngu_van'] + data['Ngoai_ngu']\n",
        "data['A-BK'] = (2*data['Toan']+data['Vat_ly']+data['Hoa_hoc'])*0.75\n",
        "data['A1-BK'] = (2*data['Toan'] + data['Ngoai_ngu'] + data['Vat_ly'])*0.75 "
      ],
      "execution_count": 22,
      "outputs": []
    },
    {
      "cell_type": "markdown",
      "metadata": {
        "id": "37NnIqzjy5jG"
      },
      "source": [
        "### **Phổ điểm**"
      ]
    },
    {
      "cell_type": "code",
      "metadata": {
        "id": "KibKs-khy48C"
      },
      "source": [
        "data"
      ],
      "execution_count": null,
      "outputs": []
    },
    {
      "cell_type": "code",
      "metadata": {
        "id": "AavbPdttQALB"
      },
      "source": [
        "def phodiem(data, mon_hoc, title):\n",
        "  data_show = []\n",
        "  if (len(mon_hoc)<3 or ('-' in mon_hoc)):\n",
        "    bins = [i/2 for i in range(0,61)]\n",
        "    data_show = data[mon_hoc].value_counts(bins = bins).sort_index()\n",
        "  elif (mon_hoc == 'Ngu_van'):\n",
        "    bins = [i/4 for i in range(0,41)]\n",
        "    data_show = data[mon_hoc].value_counts(bins = bins).sort_index()\n",
        "  else:\n",
        "    data_show = data[mon_hoc].value_counts().sort_index()\n",
        "\n",
        "  data_show.plot(kind='bar', colormap='plasma')\n",
        "\n",
        "  font = {'family': 'serif',\n",
        "          'color':  'black',\n",
        "          'weight': 'normal',\n",
        "          'size': 12,\n",
        "          }\n",
        "  font_title = {'family': 'serif',\n",
        "          'color':  'black',\n",
        "          'weight': 'normal',\n",
        "          'size': 16,\n",
        "          }\n",
        "  \n",
        "  plt.grid(c='white', linewidth=2, fillstyle='full', b=True)\n",
        "  plt.ylim(0, data_show.values.max()*1.4)\n",
        "  plt.xlabel('Điểm', labelpad = 10)\n",
        "  plt.ylabel('Số lượng', labelpad = 15)\n",
        "  plt.title(title)\n",
        "  plt.tight_layout()\n",
        "  for index, value in enumerate(data_show.values):\n",
        "    plt.text(index, value, '   ' + str(value), rotation = 90)  \n",
        "  data_show.plot.bar()\n",
        "  plt.show()\n",
        " "
      ],
      "execution_count": 54,
      "outputs": []
    },
    {
      "cell_type": "code",
      "metadata": {
        "id": "GfW88H0CD_gw"
      },
      "source": [
        "ma_Monhoc = [\n",
        "    {'Mon_hoc':'Toan', 'Ten': 'Toán'},\n",
        "    {'Mon_hoc':'Ngu_van', 'Ten': 'Ngữ Văn'},\n",
        "    {'Mon_hoc':'Ngoai_ngu', 'Ten': 'Tiếng Anh'},\n",
        "    {'Mon_hoc':'Hoa_hoc', 'Ten': 'Hóa học'},\n",
        "    {'Mon_hoc':'Sinh_hoc', 'Ten': 'Sinh hoc'},\n",
        "    {'Mon_hoc':'Vat_ly', 'Ten': 'Vật lý'},\n",
        "    {'Mon_hoc':'Lich_su', 'Ten': 'Lịch sử'},\n",
        "    {'Mon_hoc':'Dia_ly', 'Ten': 'Địa lý'},\n",
        "    {'Mon_hoc':'GDCD', 'Ten': 'Giáo dục công dân'},\n",
        "    {'Mon_hoc':'A', 'Ten': 'Khối A'},\n",
        "    {'Mon_hoc':'A-BK', 'Ten': 'Khối A theo BK'},\n",
        "    {'Mon_hoc':'B', 'Ten': 'Khối B'},\n",
        "    {'Mon_hoc':'C', 'Ten': 'Khối C'},\n",
        "    {'Mon_hoc':'D1', 'Ten': 'Khối D1'},\n",
        "    {'Mon_hoc':'A1', 'Ten': 'Khối A1'},\n",
        "    {'Mon_hoc':'A1-BK', 'Ten': 'Khối A1 theo BK'},\n",
        "]"
      ],
      "execution_count": 56,
      "outputs": []
    },
    {
      "cell_type": "code",
      "metadata": {
        "id": "nKDNc8BEEA-D"
      },
      "source": [
        "for node in ma_Monhoc:\n",
        "  phodiem(data, node['Mon_hoc'], node['Ten'])"
      ],
      "execution_count": null,
      "outputs": []
    }
  ]
}