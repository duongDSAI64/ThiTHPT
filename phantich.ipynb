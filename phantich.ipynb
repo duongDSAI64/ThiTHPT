{
  "nbformat": 4,
  "nbformat_minor": 0,
  "metadata": {
    "colab": {
      "name": "phantich.ipynb",
      "provenance": [],
      "collapsed_sections": [],
      "authorship_tag": "ABX9TyNRaSsoui/gYRagFV3n5wwt",
      "include_colab_link": true
    },
    "kernelspec": {
      "name": "python3",
      "display_name": "Python 3"
    },
    "language_info": {
      "name": "python"
    }
  },
  "cells": [
    {
      "cell_type": "markdown",
      "metadata": {
        "id": "view-in-github",
        "colab_type": "text"
      },
      "source": [
        "<a href=\"https://colab.research.google.com/github/duongDSAI64/ThiTHPT/blob/master/phantich.ipynb\" target=\"_parent\"><img src=\"https://colab.research.google.com/assets/colab-badge.svg\" alt=\"Open In Colab\"/></a>"
      ]
    },
    {
      "cell_type": "code",
      "metadata": {
        "id": "FlXH02Rm4zkO"
      },
      "source": [
        "import pandas as pd\n",
        "import numpy as np\n",
        "import matplotlib.pyplot as plt\n",
        "\n",
        "# Make the graphs a bit prettier, and bigger\n",
        "plt.style.use(\n",
        "    'ggplot')\n",
        "plt.rcParams['figure.figsize'] = (20, 7)"
      ],
      "execution_count": 102,
      "outputs": []
    },
    {
      "cell_type": "code",
      "metadata": {
        "colab": {
          "base_uri": "https://localhost:8080/",
          "height": 419
        },
        "id": "qHQ8yGe46KyP",
        "outputId": "dfe3ff47-0c6f-4079-92c8-0f55456b4503"
      },
      "source": [
        "data = pd.read_csv(r\"https://raw.githubusercontent.com/duongDSAI64/ThiTHPT/master/Diemthi2021.csv\", encoding = \"Latin-1\")\n",
        "data"
      ],
      "execution_count": 103,
      "outputs": [
        {
          "output_type": "execute_result",
          "data": {
            "text/html": [
              "<div>\n",
              "<style scoped>\n",
              "    .dataframe tbody tr th:only-of-type {\n",
              "        vertical-align: middle;\n",
              "    }\n",
              "\n",
              "    .dataframe tbody tr th {\n",
              "        vertical-align: top;\n",
              "    }\n",
              "\n",
              "    .dataframe thead th {\n",
              "        text-align: right;\n",
              "    }\n",
              "</style>\n",
              "<table border=\"1\" class=\"dataframe\">\n",
              "  <thead>\n",
              "    <tr style=\"text-align: right;\">\n",
              "      <th></th>\n",
              "      <th>SBD</th>\n",
              "      <th>Toan</th>\n",
              "      <th>Ngu_van</th>\n",
              "      <th>Ngoai_ngu</th>\n",
              "      <th>Vat_ly</th>\n",
              "      <th>Hoa_hoc</th>\n",
              "      <th>Sinh_hoc</th>\n",
              "      <th>Lich_su</th>\n",
              "      <th>Dia_ly</th>\n",
              "      <th>GDCD</th>\n",
              "      <th>Cum_thi</th>\n",
              "    </tr>\n",
              "  </thead>\n",
              "  <tbody>\n",
              "    <tr>\n",
              "      <th>0</th>\n",
              "      <td>1000001</td>\n",
              "      <td>2.2</td>\n",
              "      <td>3.50</td>\n",
              "      <td>NaN</td>\n",
              "      <td>NaN</td>\n",
              "      <td>NaN</td>\n",
              "      <td>NaN</td>\n",
              "      <td>2.50</td>\n",
              "      <td>5.50</td>\n",
              "      <td>NaN</td>\n",
              "      <td>1</td>\n",
              "    </tr>\n",
              "    <tr>\n",
              "      <th>1</th>\n",
              "      <td>1000002</td>\n",
              "      <td>9.2</td>\n",
              "      <td>8.25</td>\n",
              "      <td>10.0</td>\n",
              "      <td>NaN</td>\n",
              "      <td>NaN</td>\n",
              "      <td>NaN</td>\n",
              "      <td>5.75</td>\n",
              "      <td>9.75</td>\n",
              "      <td>9.25</td>\n",
              "      <td>1</td>\n",
              "    </tr>\n",
              "    <tr>\n",
              "      <th>2</th>\n",
              "      <td>1000003</td>\n",
              "      <td>4.4</td>\n",
              "      <td>6.25</td>\n",
              "      <td>NaN</td>\n",
              "      <td>NaN</td>\n",
              "      <td>NaN</td>\n",
              "      <td>NaN</td>\n",
              "      <td>4.25</td>\n",
              "      <td>4.00</td>\n",
              "      <td>NaN</td>\n",
              "      <td>1</td>\n",
              "    </tr>\n",
              "    <tr>\n",
              "      <th>3</th>\n",
              "      <td>1000004</td>\n",
              "      <td>8.4</td>\n",
              "      <td>6.75</td>\n",
              "      <td>10.0</td>\n",
              "      <td>4.00</td>\n",
              "      <td>3.00</td>\n",
              "      <td>3.50</td>\n",
              "      <td>NaN</td>\n",
              "      <td>NaN</td>\n",
              "      <td>NaN</td>\n",
              "      <td>1</td>\n",
              "    </tr>\n",
              "    <tr>\n",
              "      <th>4</th>\n",
              "      <td>1000005</td>\n",
              "      <td>8.8</td>\n",
              "      <td>8.25</td>\n",
              "      <td>9.4</td>\n",
              "      <td>8.25</td>\n",
              "      <td>5.75</td>\n",
              "      <td>5.25</td>\n",
              "      <td>NaN</td>\n",
              "      <td>NaN</td>\n",
              "      <td>NaN</td>\n",
              "      <td>1</td>\n",
              "    </tr>\n",
              "    <tr>\n",
              "      <th>...</th>\n",
              "      <td>...</td>\n",
              "      <td>...</td>\n",
              "      <td>...</td>\n",
              "      <td>...</td>\n",
              "      <td>...</td>\n",
              "      <td>...</td>\n",
              "      <td>...</td>\n",
              "      <td>...</td>\n",
              "      <td>...</td>\n",
              "      <td>...</td>\n",
              "      <td>...</td>\n",
              "    </tr>\n",
              "    <tr>\n",
              "      <th>988008</th>\n",
              "      <td>64006834</td>\n",
              "      <td>8.6</td>\n",
              "      <td>8.25</td>\n",
              "      <td>6.2</td>\n",
              "      <td>8.25</td>\n",
              "      <td>7.00</td>\n",
              "      <td>6.50</td>\n",
              "      <td>NaN</td>\n",
              "      <td>NaN</td>\n",
              "      <td>NaN</td>\n",
              "      <td>64</td>\n",
              "    </tr>\n",
              "    <tr>\n",
              "      <th>988009</th>\n",
              "      <td>64006835</td>\n",
              "      <td>9.0</td>\n",
              "      <td>7.50</td>\n",
              "      <td>9.4</td>\n",
              "      <td>8.00</td>\n",
              "      <td>8.25</td>\n",
              "      <td>5.50</td>\n",
              "      <td>NaN</td>\n",
              "      <td>NaN</td>\n",
              "      <td>NaN</td>\n",
              "      <td>64</td>\n",
              "    </tr>\n",
              "    <tr>\n",
              "      <th>988010</th>\n",
              "      <td>64006836</td>\n",
              "      <td>4.8</td>\n",
              "      <td>7.00</td>\n",
              "      <td>4.6</td>\n",
              "      <td>NaN</td>\n",
              "      <td>NaN</td>\n",
              "      <td>NaN</td>\n",
              "      <td>3.75</td>\n",
              "      <td>7.00</td>\n",
              "      <td>9.00</td>\n",
              "      <td>64</td>\n",
              "    </tr>\n",
              "    <tr>\n",
              "      <th>988011</th>\n",
              "      <td>64006837</td>\n",
              "      <td>7.4</td>\n",
              "      <td>7.75</td>\n",
              "      <td>9.4</td>\n",
              "      <td>NaN</td>\n",
              "      <td>NaN</td>\n",
              "      <td>NaN</td>\n",
              "      <td>4.50</td>\n",
              "      <td>6.75</td>\n",
              "      <td>9.25</td>\n",
              "      <td>64</td>\n",
              "    </tr>\n",
              "    <tr>\n",
              "      <th>988012</th>\n",
              "      <td>64006838</td>\n",
              "      <td>8.0</td>\n",
              "      <td>7.75</td>\n",
              "      <td>8.2</td>\n",
              "      <td>NaN</td>\n",
              "      <td>NaN</td>\n",
              "      <td>NaN</td>\n",
              "      <td>4.25</td>\n",
              "      <td>6.50</td>\n",
              "      <td>7.50</td>\n",
              "      <td>64</td>\n",
              "    </tr>\n",
              "  </tbody>\n",
              "</table>\n",
              "<p>988013 rows × 11 columns</p>\n",
              "</div>"
            ],
            "text/plain": [
              "             SBD  Toan  Ngu_van  Ngoai_ngu  ...  Lich_su  Dia_ly  GDCD  Cum_thi\n",
              "0        1000001   2.2     3.50        NaN  ...     2.50    5.50   NaN        1\n",
              "1        1000002   9.2     8.25       10.0  ...     5.75    9.75  9.25        1\n",
              "2        1000003   4.4     6.25        NaN  ...     4.25    4.00   NaN        1\n",
              "3        1000004   8.4     6.75       10.0  ...      NaN     NaN   NaN        1\n",
              "4        1000005   8.8     8.25        9.4  ...      NaN     NaN   NaN        1\n",
              "...          ...   ...      ...        ...  ...      ...     ...   ...      ...\n",
              "988008  64006834   8.6     8.25        6.2  ...      NaN     NaN   NaN       64\n",
              "988009  64006835   9.0     7.50        9.4  ...      NaN     NaN   NaN       64\n",
              "988010  64006836   4.8     7.00        4.6  ...     3.75    7.00  9.00       64\n",
              "988011  64006837   7.4     7.75        9.4  ...     4.50    6.75  9.25       64\n",
              "988012  64006838   8.0     7.75        8.2  ...     4.25    6.50  7.50       64\n",
              "\n",
              "[988013 rows x 11 columns]"
            ]
          },
          "metadata": {
            "tags": []
          },
          "execution_count": 103
        }
      ]
    },
    {
      "cell_type": "code",
      "metadata": {
        "colab": {
          "base_uri": "https://localhost:8080/"
        },
        "id": "c0VN-bT5SKyA",
        "outputId": "8934d885-a62a-47c0-ebb4-c567910799ba"
      },
      "source": [
        "data.info()"
      ],
      "execution_count": 104,
      "outputs": [
        {
          "output_type": "stream",
          "text": [
            "<class 'pandas.core.frame.DataFrame'>\n",
            "RangeIndex: 988013 entries, 0 to 988012\n",
            "Data columns (total 11 columns):\n",
            " #   Column     Non-Null Count   Dtype  \n",
            "---  ------     --------------   -----  \n",
            " 0   SBD        988013 non-null  int64  \n",
            " 1   Toan       977661 non-null  float64\n",
            " 2   Ngu_van    974732 non-null  float64\n",
            " 3   Ngoai_ngu  868665 non-null  float64\n",
            " 4   Vat_ly     345541 non-null  float64\n",
            " 5   Hoa_hoc    347178 non-null  float64\n",
            " 6   Sinh_hoc   341745 non-null  float64\n",
            " 7   Lich_su    634562 non-null  float64\n",
            " 8   Dia_ly     628715 non-null  float64\n",
            " 9   GDCD       532168 non-null  float64\n",
            " 10  Cum_thi    988013 non-null  int64  \n",
            "dtypes: float64(9), int64(2)\n",
            "memory usage: 82.9 MB\n"
          ],
          "name": "stdout"
        }
      ]
    },
    {
      "cell_type": "markdown",
      "metadata": {
        "id": "6Hb9E9hyvMr1"
      },
      "source": [
        "### **Số lượng theo cụm thi**"
      ]
    },
    {
      "cell_type": "code",
      "metadata": {
        "colab": {
          "base_uri": "https://localhost:8080/",
          "height": 498
        },
        "id": "CI2_fQcvpNkd",
        "outputId": "66ccf0a3-7824-4dac-8182-d5f134ba92d6"
      },
      "source": [
        "count_tinh = data['Cum_thi'].value_counts().sort_index()\n",
        "plt.xlabel('Cụm thi', labelpad = 10)\n",
        "plt.ylabel('Số lượng', labelpad = 15)\n",
        "for index, value in enumerate(count_tinh.values):\n",
        "    plt.text(index, value, '   ' + str(value), rotation = 90)\n",
        "count_tinh.plot.bar()"
      ],
      "execution_count": 105,
      "outputs": [
        {
          "output_type": "execute_result",
          "data": {
            "text/plain": [
              "<matplotlib.axes._subplots.AxesSubplot at 0x7ff709daccd0>"
            ]
          },
          "metadata": {
            "tags": []
          },
          "execution_count": 105
        },
        {
          "output_type": "display_data",
          "data": {
            "image/png": "[encoded data removed]",
            "text/plain": [
              "<Figure size 1440x504 with 1 Axes>"
            ]
          },
          "metadata": {
            "tags": []
          }
        }
      ]
    },
    {
      "cell_type": "markdown",
      "metadata": {
        "id": "37NnIqzjy5jG"
      },
      "source": [
        "### **Phổ điểm**"
      ]
    },
    {
      "cell_type": "code",
      "metadata": {
        "id": "KibKs-khy48C"
      },
      "source": [
        ""
      ],
      "execution_count": null,
      "outputs": []
    }
  ]
}